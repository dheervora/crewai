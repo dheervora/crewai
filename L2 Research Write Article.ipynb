{
 "cells": [
  {
   "cell_type": "markdown",
   "metadata": {},
   "source": [
    "You can download the `requirements.txt` for this course from the workspace of this lab. `File --> Open...`"
   ]
  },
  {
   "cell_type": "markdown",
   "metadata": {},
   "source": [
    "# L2: Create Agents to Research and Write an Article\n",
    "\n",
    "In this lesson, you will be introduced to the foundational concepts of multi-agent systems and get an overview of the crewAI framework."
   ]
  },
  {
   "cell_type": "markdown",
   "metadata": {},
   "source": [
    "The libraries are already installed in the classroom. If you're running this notebook on your own machine, you can install the following:\n",
    "```Python\n",
    "!pip install crewai==0.28.8 crewai_tools==0.1.6 langchain_community==0.0.29\n",
    "```"
   ]
  },
  {
   "cell_type": "code",
   "execution_count": 12,
   "metadata": {
    "height": 64
   },
   "outputs": [],
   "source": [
    "# Warning control\n",
    "import warnings\n",
    "warnings.filterwarnings('ignore')"
   ]
  },
  {
   "cell_type": "markdown",
   "metadata": {},
   "source": [
    "- Import from the crewAI libray."
   ]
  },
  {
   "cell_type": "code",
   "execution_count": 13,
   "metadata": {
    "height": 30
   },
   "outputs": [],
   "source": [
    "from crewai import Agent, Task, Crew"
   ]
  },
  {
   "cell_type": "markdown",
   "metadata": {},
   "source": [
    "- As a LLM for your agents, you'll be using OpenAI's `gpt-3.5-turbo`.\n",
    "\n",
    "**Optional Note:** crewAI also allow other popular models to be used as a LLM for your Agents. You can see some of the examples at the [bottom of the notebook](#1)."
   ]
  },
  {
   "cell_type": "code",
   "execution_count": 14,
   "metadata": {
    "height": 98
   },
   "outputs": [],
   "source": [
    "import os\n",
    "import openai\n",
    "from dotenv import load_dotenv, find_dotenv\n",
    "_ = load_dotenv(find_dotenv()) # read local .env file\n",
    "\n",
    "openai.api_key  = os.environ['OPENAI_API_KEY']\n",
    "os.environ[\"OPENAI_MODEL_NAME\"] = 'gpt-3.5-turbo' "
   ]
  },
  {
   "cell_type": "markdown",
   "metadata": {},
   "source": [
    "## Creating Agents\n",
    "\n",
    "- Define your Agents, and provide them a `role`, `goal` and `backstory`.\n",
    "- It has been seen that LLMs perform better when they are role playing."
   ]
  },
  {
   "cell_type": "markdown",
   "metadata": {},
   "source": [
    "### Agent: Planner\n",
    "\n",
    "**Note**: The benefit of using _multiple strings_ :\n",
    "```Python\n",
    "varname = \"line 1 of text\"\n",
    "          \"line 2 of text\"\n",
    "```\n",
    "\n",
    "versus the _triple quote docstring_:\n",
    "```Python\n",
    "varname = \"\"\"line 1 of text\n",
    "             line 2 of text\n",
    "          \"\"\"\n",
    "```\n",
    "is that it can avoid adding those whitespaces and newline characters, making it better formatted to be passed to the LLM."
   ]
  },
  {
   "cell_type": "code",
   "execution_count": 15,
   "metadata": {
    "height": 234
   },
   "outputs": [],
   "source": [
    "planner = Agent(\n",
    "    role=\"Content Planner\",\n",
    "    goal=\"Plan engaging and factually accurate content on {topic}\",\n",
    "    backstory=\"You're working on planning a blog article \"\n",
    "              \"about the topic: {topic}.\"\n",
    "              \"You collect information that helps the \"\n",
    "              \"audience learn something \"\n",
    "              \"and make informed decisions. \"\n",
    "              \"Your work is the basis for \"\n",
    "              \"the Content Writer to write an article on this topic.\",\n",
    "    allow_delegation=False,\n",
    "\tverbose=True\n",
    ")"
   ]
  },
  {
   "cell_type": "markdown",
   "metadata": {},
   "source": [
    "### Agent: Writer"
   ]
  },
  {
   "cell_type": "code",
   "execution_count": 16,
   "metadata": {
    "height": 370
   },
   "outputs": [],
   "source": [
    "writer = Agent(\n",
    "    role=\"Content Writer\",\n",
    "    goal=\"Write insightful and factually accurate \"\n",
    "         \"opinion piece about the topic: {topic}\",\n",
    "    backstory=\"You're working on a writing \"\n",
    "              \"a new opinion piece about the topic: {topic}. \"\n",
    "              \"You base your writing on the work of \"\n",
    "              \"the Content Planner, who provides an outline \"\n",
    "              \"and relevant context about the topic. \"\n",
    "              \"You follow the main objectives and \"\n",
    "              \"direction of the outline, \"\n",
    "              \"as provide by the Content Planner. \"\n",
    "              \"You also provide objective and impartial insights \"\n",
    "              \"and back them up with information \"\n",
    "              \"provide by the Content Planner. \"\n",
    "              \"You acknowledge in your opinion piece \"\n",
    "              \"when your statements are opinions \"\n",
    "              \"as opposed to objective statements.\",\n",
    "    allow_delegation=False,\n",
    "    verbose=True\n",
    ")"
   ]
  },
  {
   "cell_type": "markdown",
   "metadata": {},
   "source": [
    "### Agent: Editor"
   ]
  },
  {
   "cell_type": "code",
   "execution_count": 17,
   "metadata": {
    "height": 268
   },
   "outputs": [],
   "source": [
    "editor = Agent(\n",
    "    role=\"Editor\",\n",
    "    goal=\"Edit a given blog post to align with \"\n",
    "         \"the writing style of the organization. \",\n",
    "    backstory=\"You are an editor who receives a blog post \"\n",
    "              \"from the Content Writer. \"\n",
    "              \"Your goal is to review the blog post \"\n",
    "              \"to ensure that it follows journalistic best practices,\"\n",
    "              \"provides balanced viewpoints \"\n",
    "              \"when providing opinions or assertions, \"\n",
    "              \"and also avoids major controversial topics \"\n",
    "              \"or opinions when possible.\",\n",
    "    allow_delegation=False,\n",
    "    verbose=True\n",
    ")"
   ]
  },
  {
   "cell_type": "markdown",
   "metadata": {},
   "source": [
    "## Creating Tasks\n",
    "\n",
    "- Define your Tasks, and provide them a `description`, `expected_output` and `agent`."
   ]
  },
  {
   "cell_type": "markdown",
   "metadata": {},
   "source": [
    "### Task: Plan"
   ]
  },
  {
   "cell_type": "code",
   "execution_count": 18,
   "metadata": {
    "height": 268
   },
   "outputs": [],
   "source": [
    "plan = Task(\n",
    "    description=(\n",
    "        \"1. Prioritize the latest trends, key players, \"\n",
    "            \"and noteworthy news on {topic}.\\n\"\n",
    "        \"2. Identify the target audience, considering \"\n",
    "            \"their interests and pain points.\\n\"\n",
    "        \"3. Develop a detailed content outline including \"\n",
    "            \"an introduction, key points, and a call to action.\\n\"\n",
    "        \"4. Include SEO keywords and relevant data or sources.\"\n",
    "    ),\n",
    "    expected_output=\"A comprehensive content plan document \"\n",
    "        \"with an outline, audience analysis, \"\n",
    "        \"SEO keywords, and resources.\",\n",
    "    agent=planner,\n",
    ")"
   ]
  },
  {
   "cell_type": "markdown",
   "metadata": {},
   "source": [
    "### Task: Write"
   ]
  },
  {
   "cell_type": "code",
   "execution_count": 19,
   "metadata": {
    "height": 319
   },
   "outputs": [],
   "source": [
    "write = Task(\n",
    "    description=(\n",
    "        \"1. Use the content plan to craft a compelling \"\n",
    "            \"blog post on {topic}.\\n\"\n",
    "        \"2. Incorporate SEO keywords naturally.\\n\"\n",
    "\t\t\"3. Sections/Subtitles are properly named \"\n",
    "            \"in an engaging manner.\\n\"\n",
    "        \"4. Ensure the post is structured with an \"\n",
    "            \"engaging introduction, insightful body, \"\n",
    "            \"and a summarizing conclusion.\\n\"\n",
    "        \"5. Proofread for grammatical errors and \"\n",
    "            \"alignment with the brand's voice.\\n\"\n",
    "    ),\n",
    "    expected_output=\"A well-written blog post \"\n",
    "        \"in markdown format, ready for publication, \"\n",
    "        \"each section should have 2 or 3 paragraphs.\",\n",
    "    agent=writer,\n",
    ")"
   ]
  },
  {
   "cell_type": "markdown",
   "metadata": {},
   "source": [
    "### Task: Edit"
   ]
  },
  {
   "cell_type": "code",
   "execution_count": 20,
   "metadata": {
    "height": 166
   },
   "outputs": [],
   "source": [
    "edit = Task(\n",
    "    description=(\"Proofread the given blog post for \"\n",
    "                 \"grammatical errors and \"\n",
    "                 \"alignment with the brand's voice.\"),\n",
    "    expected_output=\"A well-written blog post in markdown format, \"\n",
    "                    \"ready for publication, \"\n",
    "                    \"each section should have 2 or 3 paragraphs.\",\n",
    "    agent=editor\n",
    ")"
   ]
  },
  {
   "cell_type": "markdown",
   "metadata": {},
   "source": [
    "## Creating the Crew\n",
    "\n",
    "- Create your crew of Agents\n",
    "- Pass the tasks to be performed by those agents.\n",
    "    - **Note**: *For this simple example*, the tasks will be performed sequentially (i.e they are dependent on each other), so the _order_ of the task in the list _matters_.\n",
    "- `verbose=2` allows you to see all the logs of the execution. "
   ]
  },
  {
   "cell_type": "code",
   "execution_count": 21,
   "metadata": {
    "height": 98
   },
   "outputs": [
    {
     "name": "stderr",
     "output_type": "stream",
     "text": [
      "2024-12-29 16:28:03,422 - 8517288512 - __init__.py-__init__:537 - WARNING: Overriding of current TracerProvider is not allowed\n"
     ]
    }
   ],
   "source": [
    "crew = Crew(\n",
    "    agents=[planner, writer, editor],\n",
    "    tasks=[plan, write, edit],\n",
    "    verbose=2\n",
    ")"
   ]
  },
  {
   "cell_type": "markdown",
   "metadata": {},
   "source": [
    "## Running the Crew"
   ]
  },
  {
   "cell_type": "markdown",
   "metadata": {},
   "source": [
    "**Note**: LLMs can provide different outputs for they same input, so what you get might be different than what you see in the video."
   ]
  },
  {
   "cell_type": "code",
   "execution_count": 22,
   "metadata": {
    "height": 30
   },
   "outputs": [
    {
     "name": "stdout",
     "output_type": "stream",
     "text": [
      "\u001b[1m\u001b[95m [DEBUG]: == Working Agent: Content Planner\u001b[00m\n",
      "\u001b[1m\u001b[95m [INFO]: == Starting Task: 1. Prioritize the latest trends, key players, and noteworthy news on Electric Vehicles.\n",
      "2. Identify the target audience, considering their interests and pain points.\n",
      "3. Develop a detailed content outline including an introduction, key points, and a call to action.\n",
      "4. Include SEO keywords and relevant data or sources.\u001b[00m\n",
      "\n",
      "\n",
      "\u001b[1m> Entering new CrewAgentExecutor chain...\u001b[0m\n",
      "\u001b[32;1m\u001b[1;3mI now can give a great answer\n",
      "\n",
      "Final Answer:\n",
      "\n",
      "Content Plan: Electric Vehicles\n",
      "\n",
      "Outline:\n",
      "I. Introduction\n",
      "- Brief overview of the rise of electric vehicles (EVs)\n",
      "- Importance of transitioning to EVs for a sustainable future\n",
      "\n",
      "II. Latest Trends in Electric Vehicles\n",
      "- Growth in EV sales worldwide\n",
      "- Advancements in battery technology\n",
      "- Expansion of charging infrastructure\n",
      "\n",
      "III. Key Players in the Electric Vehicle Industry\n",
      "- Tesla\n",
      "- Nissan\n",
      "- Chevrolet\n",
      "- BMW\n",
      "- Ford\n",
      "\n",
      "IV. Noteworthy News in Electric Vehicles\n",
      "- Government incentives for EV purchases\n",
      "- Partnerships between automakers and tech companies for EV development\n",
      "- Consumer reviews and ratings of popular EV models\n",
      "\n",
      "V. Target Audience Analysis\n",
      "- Millennials and Gen Z interested in eco-friendly transportation options\n",
      "- Urban dwellers looking for cost-effective and convenient commuting solutions\n",
      "- Environmental enthusiasts concerned about reducing carbon emissions\n",
      "\n",
      "VI. SEO Keywords\n",
      "- Electric vehicles\n",
      "- EV trends\n",
      "- Sustainable transportation\n",
      "- Electric car news\n",
      "- Best electric cars\n",
      "\n",
      "VII. Resources\n",
      "- Electric Vehicle Association of America\n",
      "- Electric Cars Report\n",
      "- Green Car Reports\n",
      "- CleanTechnica\n",
      "- EV Obsession\n",
      "\n",
      "Call to Action:\n",
      "Encourage readers to explore the benefits of electric vehicles and consider making the switch to a more sustainable mode of transportation for a greener future.\n",
      "\n",
      "Overall, this content plan aims to provide valuable insights into the latest trends, key players, and noteworthy news in the electric vehicle industry, catering to a target audience interested in eco-friendly transportation options. By incorporating SEO keywords and relevant resources, the blog article on electric vehicles will be informative and engaging for readers seeking to make informed decisions about transitioning to EVs.\u001b[0m\n",
      "\n",
      "\u001b[1m> Finished chain.\u001b[0m\n",
      "\u001b[1m\u001b[92m [DEBUG]: == [Content Planner] Task output: Content Plan: Electric Vehicles\n",
      "\n",
      "Outline:\n",
      "I. Introduction\n",
      "- Brief overview of the rise of electric vehicles (EVs)\n",
      "- Importance of transitioning to EVs for a sustainable future\n",
      "\n",
      "II. Latest Trends in Electric Vehicles\n",
      "- Growth in EV sales worldwide\n",
      "- Advancements in battery technology\n",
      "- Expansion of charging infrastructure\n",
      "\n",
      "III. Key Players in the Electric Vehicle Industry\n",
      "- Tesla\n",
      "- Nissan\n",
      "- Chevrolet\n",
      "- BMW\n",
      "- Ford\n",
      "\n",
      "IV. Noteworthy News in Electric Vehicles\n",
      "- Government incentives for EV purchases\n",
      "- Partnerships between automakers and tech companies for EV development\n",
      "- Consumer reviews and ratings of popular EV models\n",
      "\n",
      "V. Target Audience Analysis\n",
      "- Millennials and Gen Z interested in eco-friendly transportation options\n",
      "- Urban dwellers looking for cost-effective and convenient commuting solutions\n",
      "- Environmental enthusiasts concerned about reducing carbon emissions\n",
      "\n",
      "VI. SEO Keywords\n",
      "- Electric vehicles\n",
      "- EV trends\n",
      "- Sustainable transportation\n",
      "- Electric car news\n",
      "- Best electric cars\n",
      "\n",
      "VII. Resources\n",
      "- Electric Vehicle Association of America\n",
      "- Electric Cars Report\n",
      "- Green Car Reports\n",
      "- CleanTechnica\n",
      "- EV Obsession\n",
      "\n",
      "Call to Action:\n",
      "Encourage readers to explore the benefits of electric vehicles and consider making the switch to a more sustainable mode of transportation for a greener future.\n",
      "\n",
      "Overall, this content plan aims to provide valuable insights into the latest trends, key players, and noteworthy news in the electric vehicle industry, catering to a target audience interested in eco-friendly transportation options. By incorporating SEO keywords and relevant resources, the blog article on electric vehicles will be informative and engaging for readers seeking to make informed decisions about transitioning to EVs.\n",
      "\n",
      "\u001b[00m\n",
      "\u001b[1m\u001b[95m [DEBUG]: == Working Agent: Content Writer\u001b[00m\n",
      "\u001b[1m\u001b[95m [INFO]: == Starting Task: 1. Use the content plan to craft a compelling blog post on Electric Vehicles.\n",
      "2. Incorporate SEO keywords naturally.\n",
      "3. Sections/Subtitles are properly named in an engaging manner.\n",
      "4. Ensure the post is structured with an engaging introduction, insightful body, and a summarizing conclusion.\n",
      "5. Proofread for grammatical errors and alignment with the brand's voice.\n",
      "\u001b[00m\n",
      "\n",
      "\n",
      "\u001b[1m> Entering new CrewAgentExecutor chain...\u001b[0m\n",
      "\u001b[32;1m\u001b[1;3mI now can give a great answer\n",
      "\n",
      "Final Answer:\n",
      "# The Rise of Electric Vehicles: Paving the Way for a Sustainable Future\n",
      "\n",
      "In recent years, there has been a significant rise in the popularity and adoption of electric vehicles (EVs) as the world shifts towards more sustainable transportation options. This shift is crucial in mitigating the effects of climate change and reducing our reliance on fossil fuels. The importance of transitioning to EVs for a sustainable future cannot be overstated, as they offer a cleaner and greener alternative to traditional gas-powered vehicles.\n",
      "\n",
      "## Latest Trends in Electric Vehicles\n",
      "\n",
      "The latest trends in the electric vehicle industry point towards a promising future for EVs. There has been a notable growth in EV sales worldwide, driven by advancements in battery technology that have increased the range and efficiency of electric vehicles. Additionally, there has been a significant expansion of charging infrastructure, making it more convenient and accessible for EV owners to recharge their vehicles on the go.\n",
      "\n",
      "## Key Players in the Electric Vehicle Industry\n",
      "\n",
      "Several key players have emerged as leaders in the electric vehicle industry, including Tesla, Nissan, Chevrolet, BMW, and Ford. These companies have been at the forefront of innovation in electric vehicle technology, offering a range of EV models to cater to different consumer needs and preferences.\n",
      "\n",
      "## Noteworthy News in Electric Vehicles\n",
      "\n",
      "In recent news, government incentives for EV purchases have encouraged more consumers to make the switch to electric vehicles. Additionally, partnerships between automakers and tech companies for EV development have led to exciting advancements in the electric vehicle industry. Consumer reviews and ratings of popular EV models have also provided valuable insights for potential buyers looking to invest in an electric vehicle.\n",
      "\n",
      "## Target Audience Analysis\n",
      "\n",
      "The target audience for electric vehicles includes millennials and Gen Z individuals who are interested in eco-friendly transportation options, urban dwellers looking for cost-effective and convenient commuting solutions, and environmental enthusiasts concerned about reducing carbon emissions. By catering to these diverse groups, the electric vehicle industry can continue to grow and thrive in the coming years.\n",
      "\n",
      "In conclusion, electric vehicles are paving the way for a more sustainable future, offering a cleaner and greener alternative to traditional gas-powered vehicles. By exploring the latest trends, key players, and noteworthy news in the electric vehicle industry, consumers can make informed decisions about transitioning to EVs for a greener future. It is time to embrace the benefits of electric vehicles and consider making the switch to a more sustainable mode of transportation for a greener future.\n",
      "\n",
      "**Call to Action:** \n",
      "I encourage readers to explore the benefits of electric vehicles and consider making the switch to a more sustainable mode of transportation for a greener future. Let's drive towards a cleaner and greener future with electric vehicles! \n",
      "\n",
      "Resources:\n",
      "- [Electric Vehicle Association of America](https://electricdrive.org/)\n",
      "- [Electric Cars Report](https://electriccarsreport.com/)\n",
      "- [Green Car Reports](https://www.greencarreports.com/)\n",
      "- [CleanTechnica](https://cleantechnica.com/)\n",
      "- [EV Obsession](https://evobsession.com/)\u001b[0m\n",
      "\n",
      "\u001b[1m> Finished chain.\u001b[0m\n",
      "\u001b[1m\u001b[92m [DEBUG]: == [Content Writer] Task output: # The Rise of Electric Vehicles: Paving the Way for a Sustainable Future\n",
      "\n",
      "In recent years, there has been a significant rise in the popularity and adoption of electric vehicles (EVs) as the world shifts towards more sustainable transportation options. This shift is crucial in mitigating the effects of climate change and reducing our reliance on fossil fuels. The importance of transitioning to EVs for a sustainable future cannot be overstated, as they offer a cleaner and greener alternative to traditional gas-powered vehicles.\n",
      "\n",
      "## Latest Trends in Electric Vehicles\n",
      "\n",
      "The latest trends in the electric vehicle industry point towards a promising future for EVs. There has been a notable growth in EV sales worldwide, driven by advancements in battery technology that have increased the range and efficiency of electric vehicles. Additionally, there has been a significant expansion of charging infrastructure, making it more convenient and accessible for EV owners to recharge their vehicles on the go.\n",
      "\n",
      "## Key Players in the Electric Vehicle Industry\n",
      "\n",
      "Several key players have emerged as leaders in the electric vehicle industry, including Tesla, Nissan, Chevrolet, BMW, and Ford. These companies have been at the forefront of innovation in electric vehicle technology, offering a range of EV models to cater to different consumer needs and preferences.\n",
      "\n",
      "## Noteworthy News in Electric Vehicles\n",
      "\n",
      "In recent news, government incentives for EV purchases have encouraged more consumers to make the switch to electric vehicles. Additionally, partnerships between automakers and tech companies for EV development have led to exciting advancements in the electric vehicle industry. Consumer reviews and ratings of popular EV models have also provided valuable insights for potential buyers looking to invest in an electric vehicle.\n",
      "\n",
      "## Target Audience Analysis\n",
      "\n",
      "The target audience for electric vehicles includes millennials and Gen Z individuals who are interested in eco-friendly transportation options, urban dwellers looking for cost-effective and convenient commuting solutions, and environmental enthusiasts concerned about reducing carbon emissions. By catering to these diverse groups, the electric vehicle industry can continue to grow and thrive in the coming years.\n",
      "\n",
      "In conclusion, electric vehicles are paving the way for a more sustainable future, offering a cleaner and greener alternative to traditional gas-powered vehicles. By exploring the latest trends, key players, and noteworthy news in the electric vehicle industry, consumers can make informed decisions about transitioning to EVs for a greener future. It is time to embrace the benefits of electric vehicles and consider making the switch to a more sustainable mode of transportation for a greener future.\n",
      "\n",
      "**Call to Action:** \n",
      "I encourage readers to explore the benefits of electric vehicles and consider making the switch to a more sustainable mode of transportation for a greener future. Let's drive towards a cleaner and greener future with electric vehicles! \n",
      "\n",
      "Resources:\n",
      "- [Electric Vehicle Association of America](https://electricdrive.org/)\n",
      "- [Electric Cars Report](https://electriccarsreport.com/)\n",
      "- [Green Car Reports](https://www.greencarreports.com/)\n",
      "- [CleanTechnica](https://cleantechnica.com/)\n",
      "- [EV Obsession](https://evobsession.com/)\n",
      "\n",
      "\u001b[00m\n",
      "\u001b[1m\u001b[95m [DEBUG]: == Working Agent: Editor\u001b[00m\n",
      "\u001b[1m\u001b[95m [INFO]: == Starting Task: Proofread the given blog post for grammatical errors and alignment with the brand's voice.\u001b[00m\n",
      "\n",
      "\n",
      "\u001b[1m> Entering new CrewAgentExecutor chain...\u001b[0m\n",
      "\u001b[32;1m\u001b[1;3mI now can give a great answer\n",
      "\n",
      "Final Answer: \n",
      "\n",
      "# The Rise of Electric Vehicles: Paving the Way for a Sustainable Future\n",
      "\n",
      "In recent years, the popularity and adoption of electric vehicles (EVs) have seen a significant rise as the world transitions towards more sustainable transportation options. This shift plays a crucial role in mitigating the effects of climate change and reducing our dependence on fossil fuels. The transition to EVs for a sustainable future is vital, as they provide a cleaner and greener alternative to traditional gas-powered vehicles.\n",
      "\n",
      "## Latest Trends in Electric Vehicles\n",
      "\n",
      "The latest trends in the electric vehicle industry indicate a promising future for EVs. There has been a noticeable growth in EV sales globally, propelled by advancements in battery technology that have enhanced the range and efficiency of electric vehicles. Moreover, there has been a substantial expansion of charging infrastructure, making it more convenient and accessible for EV owners to recharge their vehicles while on the go.\n",
      "\n",
      "## Key Players in the Electric Vehicle Industry\n",
      "\n",
      "Several key players have emerged as leaders in the electric vehicle industry, with companies like Tesla, Nissan, Chevrolet, BMW, and Ford at the forefront of innovation in electric vehicle technology. These companies offer a variety of EV models to meet different consumer needs and preferences.\n",
      "\n",
      "## Noteworthy News in Electric Vehicles\n",
      "\n",
      "Recent news highlights government incentives for EV purchases, which have encouraged more consumers to make the switch to electric vehicles. Partnerships between automakers and tech companies for EV development have also resulted in exciting advancements in the electric vehicle industry. Consumer reviews and ratings of popular EV models provide valuable insights for potential buyers considering investing in an electric vehicle.\n",
      "\n",
      "## Target Audience Analysis\n",
      "\n",
      "The target audience for electric vehicles includes millennials and Gen Z individuals interested in eco-friendly transportation options, urban dwellers seeking cost-effective and convenient commuting solutions, and environmental enthusiasts focused on reducing carbon emissions. By catering to these diverse groups, the electric vehicle industry can continue to expand and thrive in the years to come.\n",
      "\n",
      "In conclusion, electric vehicles are leading the way towards a more sustainable future by offering a cleaner and greener alternative to traditional gas-powered vehicles. By examining the latest trends, key players, and noteworthy news in the electric vehicle industry, consumers can make informed decisions about transitioning to EVs for a greener future. It is time to embrace the advantages of electric vehicles and consider switching to a more sustainable mode of transportation for a greener future.\n",
      "\n",
      "**Call to Action:** \n",
      "I urge readers to explore the benefits of electric vehicles and consider transitioning to a more sustainable mode of transportation for a cleaner and greener future. Let's drive towards a cleaner and greener future with electric vehicles! \n",
      "\n",
      "Resources:\n",
      "- [Electric Vehicle Association of America](https://electricdrive.org/)\n",
      "- [Electric Cars Report](https://electriccarsreport.com/)\n",
      "- [Green Car Reports](https://www.greencarreports.com/)\n",
      "- [CleanTechnica](https://cleantechnica.com/)\n",
      "- [EV Obsession](https://evobsession.com/)\u001b[0m\n",
      "\n",
      "\u001b[1m> Finished chain.\u001b[0m\n",
      "\u001b[1m\u001b[92m [DEBUG]: == [Editor] Task output: # The Rise of Electric Vehicles: Paving the Way for a Sustainable Future\n",
      "\n",
      "In recent years, the popularity and adoption of electric vehicles (EVs) have seen a significant rise as the world transitions towards more sustainable transportation options. This shift plays a crucial role in mitigating the effects of climate change and reducing our dependence on fossil fuels. The transition to EVs for a sustainable future is vital, as they provide a cleaner and greener alternative to traditional gas-powered vehicles.\n",
      "\n",
      "## Latest Trends in Electric Vehicles\n",
      "\n",
      "The latest trends in the electric vehicle industry indicate a promising future for EVs. There has been a noticeable growth in EV sales globally, propelled by advancements in battery technology that have enhanced the range and efficiency of electric vehicles. Moreover, there has been a substantial expansion of charging infrastructure, making it more convenient and accessible for EV owners to recharge their vehicles while on the go.\n",
      "\n",
      "## Key Players in the Electric Vehicle Industry\n",
      "\n",
      "Several key players have emerged as leaders in the electric vehicle industry, with companies like Tesla, Nissan, Chevrolet, BMW, and Ford at the forefront of innovation in electric vehicle technology. These companies offer a variety of EV models to meet different consumer needs and preferences.\n",
      "\n",
      "## Noteworthy News in Electric Vehicles\n",
      "\n",
      "Recent news highlights government incentives for EV purchases, which have encouraged more consumers to make the switch to electric vehicles. Partnerships between automakers and tech companies for EV development have also resulted in exciting advancements in the electric vehicle industry. Consumer reviews and ratings of popular EV models provide valuable insights for potential buyers considering investing in an electric vehicle.\n",
      "\n",
      "## Target Audience Analysis\n",
      "\n",
      "The target audience for electric vehicles includes millennials and Gen Z individuals interested in eco-friendly transportation options, urban dwellers seeking cost-effective and convenient commuting solutions, and environmental enthusiasts focused on reducing carbon emissions. By catering to these diverse groups, the electric vehicle industry can continue to expand and thrive in the years to come.\n",
      "\n",
      "In conclusion, electric vehicles are leading the way towards a more sustainable future by offering a cleaner and greener alternative to traditional gas-powered vehicles. By examining the latest trends, key players, and noteworthy news in the electric vehicle industry, consumers can make informed decisions about transitioning to EVs for a greener future. It is time to embrace the advantages of electric vehicles and consider switching to a more sustainable mode of transportation for a greener future.\n",
      "\n",
      "**Call to Action:** \n",
      "I urge readers to explore the benefits of electric vehicles and consider transitioning to a more sustainable mode of transportation for a cleaner and greener future. Let's drive towards a cleaner and greener future with electric vehicles! \n",
      "\n",
      "Resources:\n",
      "- [Electric Vehicle Association of America](https://electricdrive.org/)\n",
      "- [Electric Cars Report](https://electriccarsreport.com/)\n",
      "- [Green Car Reports](https://www.greencarreports.com/)\n",
      "- [CleanTechnica](https://cleantechnica.com/)\n",
      "- [EV Obsession](https://evobsession.com/)\n",
      "\n",
      "\u001b[00m\n"
     ]
    }
   ],
   "source": [
    "result = crew.kickoff(inputs={\"topic\": \"Electric Vehicles\"})"
   ]
  },
  {
   "cell_type": "markdown",
   "metadata": {},
   "source": [
    "- Display the results of your execution as markdown in the notebook."
   ]
  },
  {
   "cell_type": "code",
   "execution_count": 23,
   "metadata": {
    "height": 47
   },
   "outputs": [
    {
     "data": {
      "text/markdown": [
       "# The Rise of Electric Vehicles: Paving the Way for a Sustainable Future\n",
       "\n",
       "In recent years, the popularity and adoption of electric vehicles (EVs) have seen a significant rise as the world transitions towards more sustainable transportation options. This shift plays a crucial role in mitigating the effects of climate change and reducing our dependence on fossil fuels. The transition to EVs for a sustainable future is vital, as they provide a cleaner and greener alternative to traditional gas-powered vehicles.\n",
       "\n",
       "## Latest Trends in Electric Vehicles\n",
       "\n",
       "The latest trends in the electric vehicle industry indicate a promising future for EVs. There has been a noticeable growth in EV sales globally, propelled by advancements in battery technology that have enhanced the range and efficiency of electric vehicles. Moreover, there has been a substantial expansion of charging infrastructure, making it more convenient and accessible for EV owners to recharge their vehicles while on the go.\n",
       "\n",
       "## Key Players in the Electric Vehicle Industry\n",
       "\n",
       "Several key players have emerged as leaders in the electric vehicle industry, with companies like Tesla, Nissan, Chevrolet, BMW, and Ford at the forefront of innovation in electric vehicle technology. These companies offer a variety of EV models to meet different consumer needs and preferences.\n",
       "\n",
       "## Noteworthy News in Electric Vehicles\n",
       "\n",
       "Recent news highlights government incentives for EV purchases, which have encouraged more consumers to make the switch to electric vehicles. Partnerships between automakers and tech companies for EV development have also resulted in exciting advancements in the electric vehicle industry. Consumer reviews and ratings of popular EV models provide valuable insights for potential buyers considering investing in an electric vehicle.\n",
       "\n",
       "## Target Audience Analysis\n",
       "\n",
       "The target audience for electric vehicles includes millennials and Gen Z individuals interested in eco-friendly transportation options, urban dwellers seeking cost-effective and convenient commuting solutions, and environmental enthusiasts focused on reducing carbon emissions. By catering to these diverse groups, the electric vehicle industry can continue to expand and thrive in the years to come.\n",
       "\n",
       "In conclusion, electric vehicles are leading the way towards a more sustainable future by offering a cleaner and greener alternative to traditional gas-powered vehicles. By examining the latest trends, key players, and noteworthy news in the electric vehicle industry, consumers can make informed decisions about transitioning to EVs for a greener future. It is time to embrace the advantages of electric vehicles and consider switching to a more sustainable mode of transportation for a greener future.\n",
       "\n",
       "**Call to Action:** \n",
       "I urge readers to explore the benefits of electric vehicles and consider transitioning to a more sustainable mode of transportation for a cleaner and greener future. Let's drive towards a cleaner and greener future with electric vehicles! \n",
       "\n",
       "Resources:\n",
       "- [Electric Vehicle Association of America](https://electricdrive.org/)\n",
       "- [Electric Cars Report](https://electriccarsreport.com/)\n",
       "- [Green Car Reports](https://www.greencarreports.com/)\n",
       "- [CleanTechnica](https://cleantechnica.com/)\n",
       "- [EV Obsession](https://evobsession.com/)"
      ],
      "text/plain": [
       "<IPython.core.display.Markdown object>"
      ]
     },
     "execution_count": 23,
     "metadata": {},
     "output_type": "execute_result"
    }
   ],
   "source": [
    "from IPython.display import Markdown\n",
    "Markdown(result)"
   ]
  },
  {
   "cell_type": "markdown",
   "metadata": {},
   "source": [
    "## Try it Yourself\n",
    "\n",
    "- Pass in a topic of your choice and see what the agents come up with!"
   ]
  },
  {
   "cell_type": "markdown",
   "metadata": {},
   "source": [
    "<a name='1'></a>\n",
    " ## Other Popular Models as LLM for your Agents"
   ]
  },
  {
   "cell_type": "markdown",
   "metadata": {},
   "source": [
    "#### Hugging Face (HuggingFaceHub endpoint)\n",
    "\n",
    "```Python\n",
    "from langchain_community.llms import HuggingFaceHub\n",
    "\n",
    "llm = HuggingFaceHub(\n",
    "    repo_id=\"HuggingFaceH4/zephyr-7b-beta\",\n",
    "    huggingfacehub_api_token=\"<HF_TOKEN_HERE>\",\n",
    "    task=\"text-generation\",\n",
    ")\n",
    "\n",
    "### you will pass \"llm\" to your agent function\n",
    "```"
   ]
  },
  {
   "cell_type": "markdown",
   "metadata": {},
   "source": [
    "#### Mistral API\n",
    "\n",
    "```Python\n",
    "OPENAI_API_KEY=your-mistral-api-key\n",
    "OPENAI_API_BASE=https://api.mistral.ai/v1\n",
    "OPENAI_MODEL_NAME=\"mistral-small\"\n",
    "```"
   ]
  },
  {
   "cell_type": "markdown",
   "metadata": {},
   "source": [
    "#### Cohere\n",
    "\n",
    "```Python\n",
    "from langchain_community.chat_models import ChatCohere\n",
    "# Initialize language model\n",
    "os.environ[\"COHERE_API_KEY\"] = \"your-cohere-api-key\"\n",
    "llm = ChatCohere()\n",
    "\n",
    "### you will pass \"llm\" to your agent function\n",
    "```"
   ]
  },
  {
   "cell_type": "markdown",
   "metadata": {},
   "source": [
    "### For using Llama locally with Ollama and more, checkout the crewAI documentation on [Connecting to any LLM](https://docs.crewai.com/how-to/LLM-Connections/)."
   ]
  },
  {
   "cell_type": "code",
   "execution_count": null,
   "metadata": {
    "height": 30
   },
   "outputs": [],
   "source": []
  },
  {
   "cell_type": "code",
   "execution_count": null,
   "metadata": {
    "height": 30
   },
   "outputs": [],
   "source": []
  },
  {
   "cell_type": "code",
   "execution_count": null,
   "metadata": {
    "height": 30
   },
   "outputs": [],
   "source": []
  }
 ],
 "metadata": {
  "colab": {
   "gpuType": "T4",
   "provenance": []
  },
  "kernelspec": {
   "display_name": "Python 3 (ipykernel)",
   "language": "python",
   "name": "python3"
  },
  "language_info": {
   "codemirror_mode": {
    "name": "ipython",
    "version": 3
   },
   "file_extension": ".py",
   "mimetype": "text/x-python",
   "name": "python",
   "nbconvert_exporter": "python",
   "pygments_lexer": "ipython3",
   "version": "3.11.7"
  }
 },
 "nbformat": 4,
 "nbformat_minor": 4
}
